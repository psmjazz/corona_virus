{
  "nbformat": 4,
  "nbformat_minor": 0,
  "metadata": {
    "colab": {
      "name": "corona.ipynb",
      "provenance": [],
      "authorship_tag": "ABX9TyOSi7ZrDYlQmmAfJDFbwrzc",
      "include_colab_link": true
    },
    "kernelspec": {
      "name": "python3",
      "display_name": "Python 3"
    }
  },
  "cells": [
    {
      "cell_type": "markdown",
      "metadata": {
        "id": "view-in-github",
        "colab_type": "text"
      },
      "source": [
        "<a href=\"https://colab.research.google.com/github/psmjazz/corona_virus/blob/master/corona.ipynb\" target=\"_parent\"><img src=\"https://colab.research.google.com/assets/colab-badge.svg\" alt=\"Open In Colab\"/></a>"
      ]
    },
    {
      "cell_type": "code",
      "metadata": {
        "id": "Js2LU2awGdZ0",
        "colab_type": "code",
        "colab": {}
      },
      "source": [
        "import numpy as np\n",
        "import pandas as pd\n",
        "import os\n",
        "from google.colab import files\n",
        "\n"
      ],
      "execution_count": 0,
      "outputs": []
    },
    {
      "cell_type": "code",
      "metadata": {
        "id": "pvTVnARuGjQp",
        "colab_type": "code",
        "colab": {}
      },
      "source": [
        "os.getcwd()\n",
        "table = pd.read_csv('Case.csv')"
      ],
      "execution_count": 0,
      "outputs": []
    },
    {
      "cell_type": "code",
      "metadata": {
        "id": "R1UY_8RbGuRa",
        "colab_type": "code",
        "outputId": "aa146b37-e4a2-4256-d7bf-5a502d627be3",
        "colab": {
          "base_uri": "https://localhost:8080/",
          "height": 419
        }
      },
      "source": [
        "table"
      ],
      "execution_count": 0,
      "outputs": [
        {
          "output_type": "execute_result",
          "data": {
            "text/html": [
              "<div>\n",
              "<style scoped>\n",
              "    .dataframe tbody tr th:only-of-type {\n",
              "        vertical-align: middle;\n",
              "    }\n",
              "\n",
              "    .dataframe tbody tr th {\n",
              "        vertical-align: top;\n",
              "    }\n",
              "\n",
              "    .dataframe thead th {\n",
              "        text-align: right;\n",
              "    }\n",
              "</style>\n",
              "<table border=\"1\" class=\"dataframe\">\n",
              "  <thead>\n",
              "    <tr style=\"text-align: right;\">\n",
              "      <th></th>\n",
              "      <th>case_id</th>\n",
              "      <th>province</th>\n",
              "      <th>city</th>\n",
              "      <th>group</th>\n",
              "      <th>infection_case</th>\n",
              "      <th>confirmed</th>\n",
              "      <th>latitude</th>\n",
              "      <th>longitude</th>\n",
              "    </tr>\n",
              "  </thead>\n",
              "  <tbody>\n",
              "    <tr>\n",
              "      <th>0</th>\n",
              "      <td>1000001</td>\n",
              "      <td>Seoul</td>\n",
              "      <td>Guro-gu</td>\n",
              "      <td>True</td>\n",
              "      <td>Guro-gu Call Center</td>\n",
              "      <td>79</td>\n",
              "      <td>37.508163</td>\n",
              "      <td>126.884387</td>\n",
              "    </tr>\n",
              "    <tr>\n",
              "      <th>1</th>\n",
              "      <td>1000002</td>\n",
              "      <td>Seoul</td>\n",
              "      <td>Dongdaemun-gu</td>\n",
              "      <td>True</td>\n",
              "      <td>Dongan Church</td>\n",
              "      <td>24</td>\n",
              "      <td>37.592888</td>\n",
              "      <td>127.056766</td>\n",
              "    </tr>\n",
              "    <tr>\n",
              "      <th>2</th>\n",
              "      <td>1000003</td>\n",
              "      <td>Seoul</td>\n",
              "      <td>Eunpyeong-gu</td>\n",
              "      <td>True</td>\n",
              "      <td>Eunpyeong St. Mary's Hospital</td>\n",
              "      <td>14</td>\n",
              "      <td>37.63369</td>\n",
              "      <td>126.9165</td>\n",
              "    </tr>\n",
              "    <tr>\n",
              "      <th>3</th>\n",
              "      <td>1000004</td>\n",
              "      <td>Seoul</td>\n",
              "      <td>Seongdong-gu</td>\n",
              "      <td>True</td>\n",
              "      <td>Seongdong-gu APT</td>\n",
              "      <td>13</td>\n",
              "      <td>37.55713</td>\n",
              "      <td>127.0403</td>\n",
              "    </tr>\n",
              "    <tr>\n",
              "      <th>4</th>\n",
              "      <td>1000005</td>\n",
              "      <td>Seoul</td>\n",
              "      <td>Jongno-gu</td>\n",
              "      <td>True</td>\n",
              "      <td>Jongno Community Center</td>\n",
              "      <td>10</td>\n",
              "      <td>37.57681</td>\n",
              "      <td>127.006</td>\n",
              "    </tr>\n",
              "    <tr>\n",
              "      <th>...</th>\n",
              "      <td>...</td>\n",
              "      <td>...</td>\n",
              "      <td>...</td>\n",
              "      <td>...</td>\n",
              "      <td>...</td>\n",
              "      <td>...</td>\n",
              "      <td>...</td>\n",
              "      <td>...</td>\n",
              "    </tr>\n",
              "    <tr>\n",
              "      <th>76</th>\n",
              "      <td>6100004</td>\n",
              "      <td>Gyeongsangnam-do</td>\n",
              "      <td>Changwon-si</td>\n",
              "      <td>True</td>\n",
              "      <td>Hanmaeum Changwon Hospital</td>\n",
              "      <td>7</td>\n",
              "      <td>35.22115</td>\n",
              "      <td>128.6866</td>\n",
              "    </tr>\n",
              "    <tr>\n",
              "      <th>77</th>\n",
              "      <td>6100005</td>\n",
              "      <td>Gyeongsangnam-do</td>\n",
              "      <td>Changnyeong-gun</td>\n",
              "      <td>True</td>\n",
              "      <td>Changnyeong Coin Karaoke</td>\n",
              "      <td>7</td>\n",
              "      <td>35.54127</td>\n",
              "      <td>128.5008</td>\n",
              "    </tr>\n",
              "    <tr>\n",
              "      <th>78</th>\n",
              "      <td>6100006</td>\n",
              "      <td>Gyeongsangnam-do</td>\n",
              "      <td>from other city</td>\n",
              "      <td>True</td>\n",
              "      <td>Onchun Church</td>\n",
              "      <td>2</td>\n",
              "      <td>-</td>\n",
              "      <td>-</td>\n",
              "    </tr>\n",
              "    <tr>\n",
              "      <th>79</th>\n",
              "      <td>6100007</td>\n",
              "      <td>Gyeongsangnam-do</td>\n",
              "      <td>-</td>\n",
              "      <td>False</td>\n",
              "      <td>etc</td>\n",
              "      <td>19</td>\n",
              "      <td>-</td>\n",
              "      <td>-</td>\n",
              "    </tr>\n",
              "    <tr>\n",
              "      <th>80</th>\n",
              "      <td>7000001</td>\n",
              "      <td>Jeju-do</td>\n",
              "      <td>-</td>\n",
              "      <td>False</td>\n",
              "      <td>etc</td>\n",
              "      <td>4</td>\n",
              "      <td>-</td>\n",
              "      <td>-</td>\n",
              "    </tr>\n",
              "  </tbody>\n",
              "</table>\n",
              "<p>81 rows × 8 columns</p>\n",
              "</div>"
            ],
            "text/plain": [
              "    case_id          province  ...   latitude   longitude\n",
              "0   1000001             Seoul  ...  37.508163  126.884387\n",
              "1   1000002             Seoul  ...  37.592888  127.056766\n",
              "2   1000003             Seoul  ...   37.63369    126.9165\n",
              "3   1000004             Seoul  ...   37.55713    127.0403\n",
              "4   1000005             Seoul  ...   37.57681     127.006\n",
              "..      ...               ...  ...        ...         ...\n",
              "76  6100004  Gyeongsangnam-do  ...   35.22115    128.6866\n",
              "77  6100005  Gyeongsangnam-do  ...   35.54127    128.5008\n",
              "78  6100006  Gyeongsangnam-do  ...          -           -\n",
              "79  6100007  Gyeongsangnam-do  ...          -           -\n",
              "80  7000001           Jeju-do  ...          -           -\n",
              "\n",
              "[81 rows x 8 columns]"
            ]
          },
          "metadata": {
            "tags": []
          },
          "execution_count": 7
        }
      ]
    },
    {
      "cell_type": "code",
      "metadata": {
        "id": "WqHsp1qmJ823",
        "colab_type": "code",
        "colab": {}
      },
      "source": [
        ""
      ],
      "execution_count": 0,
      "outputs": []
    }
  ]
}