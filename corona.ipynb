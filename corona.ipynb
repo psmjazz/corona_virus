{
  "nbformat": 4,
  "nbformat_minor": 0,
  "metadata": {
    "colab": {
      "name": "corona.ipynb",
      "provenance": [],
      "collapsed_sections": [],
      "authorship_tag": "ABX9TyNTknJ+NNH8a3M651mOYcTE",
      "include_colab_link": true
    },
    "kernelspec": {
      "name": "python3",
      "display_name": "Python 3"
    }
  },
  "cells": [
    {
      "cell_type": "markdown",
      "metadata": {
        "id": "view-in-github",
        "colab_type": "text"
      },
      "source": [
        "<a href=\"https://colab.research.google.com/github/psmjazz/corona_virus/blob/master/corona.ipynb\" target=\"_parent\"><img src=\"https://colab.research.google.com/assets/colab-badge.svg\" alt=\"Open In Colab\"/></a>"
      ]
    },
    {
      "cell_type": "code",
      "metadata": {
        "id": "Js2LU2awGdZ0",
        "colab_type": "code",
        "colab": {}
      },
      "source": [
        "import numpy as np\n",
        "import pandas as pd\n",
        "import seaborn as sns\n",
        "from matplotlib import pyplot as plt\n",
        "import os\n",
        "from google.colab import files"
      ],
      "execution_count": 0,
      "outputs": []
    },
    {
      "cell_type": "code",
      "metadata": {
        "id": "pvTVnARuGjQp",
        "colab_type": "code",
        "outputId": "26069618-6efa-4556-f05b-88e6a489379e",
        "colab": {
          "base_uri": "https://localhost:8080/",
          "height": 53
        }
      },
      "source": [
        "current_dir = os.getcwd()\n",
        "print('current directory : ' + current_dir)\n",
        "data_version = '/coronavirusdataset_20200328'\n",
        "data_dir = current_dir + data_version\n",
        "print('data directory : ' + data_dir)\n",
        "\n",
        "case_table = pd.read_csv(data_dir + '/Case.csv')\n",
        "p_info_table = pd.read_csv(data_dir + '/PatientInfo.csv')\n",
        "p_route_table = pd.read_csv(data_dir + '/PatientRoute.csv')"
      ],
      "execution_count": 2,
      "outputs": [
        {
          "output_type": "stream",
          "text": [
            "current directory : /content\n",
            "data directory : /content/coronavirusdataset_20200328\n"
          ],
          "name": "stdout"
        }
      ]
    },
    {
      "cell_type": "markdown",
      "metadata": {
        "id": "MDZQRTr4R4YX",
        "colab_type": "text"
      },
      "source": [
        "슈퍼 전파자 파악\n",
        "\n",
        "\n"
      ]
    },
    {
      "cell_type": "code",
      "metadata": {
        "id": "R1UY_8RbGuRa",
        "colab_type": "code",
        "outputId": "93a06cc0-037e-4997-d535-a31cf5c6921c",
        "colab": {
          "base_uri": "https://localhost:8080/",
          "height": 279
        }
      },
      "source": [
        "# spreader_count = dict()\n",
        "spreader_count = None\n",
        "spreader_count = p_info_table[['infected_by']]\\\n",
        ".dropna(axis = 0).astype('int')\\\n",
        ".groupby('infected_by')['infected_by'].count().reset_index(name = 'count')\\\n",
        ".sort_values(['count'], ascending = False)\n",
        "\n",
        "top_15 = spreader_count.head(15)\n",
        "top_15.index\n",
        "spreader_chart = sns.barplot(x = 'count',y = 'infected_by',\n",
        "                             data = top_15, orient = 'h',\n",
        "                             order = top_15['infected_by'])"
      ],
      "execution_count": 74,
      "outputs": [
        {
          "output_type": "display_data",
          "data": {
            "image/png": "[encoded data removed]",
            "text/plain": [
              "<Figure size 432x288 with 1 Axes>"
            ]
          },
          "metadata": {
            "tags": []
          }
        }
      ]
    },
    {
      "cell_type": "code",
      "metadata": {
        "id": "rv9P9-JTla-y",
        "colab_type": "code",
        "colab": {}
      },
      "source": [
        ""
      ],
      "execution_count": 0,
      "outputs": []
    }
  ]
}